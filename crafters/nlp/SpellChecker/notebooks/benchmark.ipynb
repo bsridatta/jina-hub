{
 "cells": [
  {
   "cell_type": "markdown",
   "metadata": {
    "toc": true
   },
   "source": [
    "<h1>Table of Contents<span class=\"tocSkip\"></span></h1>\n",
    "<div class=\"toc\"><ul class=\"toc-item\"><li><span><a href=\"#Using-bigger-data\" data-toc-modified-id=\"Using-bigger-data-1\"><span class=\"toc-item-num\">1&nbsp;&nbsp;</span>Using bigger data</a></span><ul class=\"toc-item\"><li><span><a href=\"#Training-data\" data-toc-modified-id=\"Training-data-1.1\"><span class=\"toc-item-num\">1.1&nbsp;&nbsp;</span>Training data</a></span></li></ul></li></ul></div>"
   ]
  },
  {
   "cell_type": "code",
   "execution_count": 31,
   "metadata": {
    "ExecuteTime": {
     "end_time": "2021-04-22T14:27:31.747996Z",
     "start_time": "2021-04-22T14:27:31.726767Z"
    }
   },
   "outputs": [
    {
     "name": "stdout",
     "output_type": "stream",
     "text": [
      "The autoreload extension is already loaded. To reload it, use:\n",
      "  %reload_ext autoreload\n"
     ]
    }
   ],
   "source": [
    "%load_ext autoreload\n",
    "%autoreload 2"
   ]
  },
  {
   "cell_type": "code",
   "execution_count": 32,
   "metadata": {
    "ExecuteTime": {
     "end_time": "2021-04-22T14:35:10.708017Z",
     "start_time": "2021-04-22T14:35:10.530083Z"
    }
   },
   "outputs": [
    {
     "name": "stdout",
     "output_type": "stream",
     "text": [
      "__init__.py   \u001b[34mdata\u001b[m\u001b[m/         \u001b[34mnotebooks\u001b[m\u001b[m/    \u001b[34mpyngramspell\u001b[m\u001b[m/\r\n"
     ]
    }
   ],
   "source": [
    "ls .."
   ]
  },
  {
   "cell_type": "code",
   "execution_count": 33,
   "metadata": {
    "ExecuteTime": {
     "end_time": "2021-04-22T14:27:32.844223Z",
     "start_time": "2021-04-22T14:27:32.829080Z"
    }
   },
   "outputs": [],
   "source": [
    "import os,sys,inspect\n",
    "currentdir = os.path.dirname(os.path.abspath(inspect.getfile(inspect.currentframe())))\n",
    "parentdir = os.path.dirname(currentdir)\n",
    "sys.path.insert(0,parentdir) "
   ]
  },
  {
   "cell_type": "code",
   "execution_count": 34,
   "metadata": {
    "ExecuteTime": {
     "end_time": "2021-04-22T16:51:23.037627Z",
     "start_time": "2021-04-22T16:51:22.611003Z"
    }
   },
   "outputs": [],
   "source": [
    "import data\n",
    "from data import utils\n",
    "\n",
    "train, test = utils.get_evaluation()\n",
    "\n",
    "X_tr = [x['original'] for x in train]\n",
    "y_tr = [x['corrected'] for x in train]\n",
    "X_te = [x['original'] for x in test]\n",
    "y_te = [x['corrected'] for x in test]\n",
    "\n",
    "train_data = [' '.join(x) for x in y_tr]"
   ]
  },
  {
   "cell_type": "code",
   "execution_count": 35,
   "metadata": {
    "ExecuteTime": {
     "end_time": "2021-04-22T17:01:41.080831Z",
     "start_time": "2021-04-22T17:01:41.059903Z"
    }
   },
   "outputs": [],
   "source": [
    "import pyngramspell\n",
    "speller = pyngramspell.PyNgramSpell()"
   ]
  },
  {
   "cell_type": "code",
   "execution_count": 36,
   "metadata": {
    "ExecuteTime": {
     "end_time": "2021-04-22T17:01:41.345736Z",
     "start_time": "2021-04-22T17:01:41.284754Z"
    },
    "scrolled": true
   },
   "outputs": [],
   "source": [
    "speller.fit(train_data)"
   ]
  },
  {
   "cell_type": "code",
   "execution_count": 37,
   "metadata": {
    "ExecuteTime": {
     "end_time": "2021-04-22T17:08:27.174469Z",
     "start_time": "2021-04-22T17:08:27.143785Z"
    }
   },
   "outputs": [
    {
     "data": {
      "text/plain": [
       "['the', 'man', 'went', 'to', 'the', 'store']"
      ]
     },
     "execution_count": 37,
     "metadata": {},
     "output_type": "execute_result"
    }
   ],
   "source": [
    "speller.transform('the maan went to the store')"
   ]
  },
  {
   "cell_type": "code",
   "execution_count": 38,
   "metadata": {
    "ExecuteTime": {
     "end_time": "2021-04-22T17:08:27.532196Z",
     "start_time": "2021-04-22T17:08:27.503991Z"
    }
   },
   "outputs": [
    {
     "data": {
      "text/plain": [
       "['red', 'shirtt']"
      ]
     },
     "execution_count": 38,
     "metadata": {},
     "output_type": "execute_result"
    }
   ],
   "source": [
    "speller.transform('red shirtt')"
   ]
  },
  {
   "cell_type": "code",
   "execution_count": 40,
   "metadata": {
    "ExecuteTime": {
     "end_time": "2021-04-22T17:08:27.894305Z",
     "start_time": "2021-04-22T17:08:27.864227Z"
    },
    "scrolled": true
   },
   "outputs": [
    {
     "name": "stdout",
     "output_type": "stream",
     "text": [
      "CPU times: user 261 µs, sys: 2 µs, total: 263 µs\n",
      "Wall time: 265 µs\n"
     ]
    },
    {
     "data": {
      "text/plain": [
       "['red', 'shirtt']"
      ]
     },
     "execution_count": 40,
     "metadata": {},
     "output_type": "execute_result"
    }
   ],
   "source": [
    "%%time \n",
    "speller.transform('red shirtt')"
   ]
  },
  {
   "cell_type": "markdown",
   "metadata": {},
   "source": [
    "### Using bigger data"
   ]
  },
  {
   "cell_type": "markdown",
   "metadata": {},
   "source": [
    "#### Training data\n",
    "\n",
    "\n",
    "The dataset used to train the model comes from  https://jmcauley.ucsd.edu/data/amazon/\n",
    "\n",
    "The `Video_Games_5.json` can be downloaded from \n",
    "http://snap.stanford.edu/data/amazon/productGraph/categoryFiles/reviews_Video_Games_5.json.gz"
   ]
  },
  {
   "cell_type": "code",
   "execution_count": 15,
   "metadata": {
    "ExecuteTime": {
     "end_time": "2021-04-22T17:22:34.751466Z",
     "start_time": "2021-04-22T17:22:34.728503Z"
    }
   },
   "outputs": [],
   "source": [
    "import pandas as pd\n",
    "from os.path import expanduser\n",
    "home = expanduser(\"~\")"
   ]
  },
  {
   "cell_type": "code",
   "execution_count": 16,
   "metadata": {
    "ExecuteTime": {
     "end_time": "2021-04-22T17:23:35.292695Z",
     "start_time": "2021-04-22T17:23:32.016478Z"
    }
   },
   "outputs": [],
   "source": [
    "dataset_path = os.path.join(home,'Datasets/amazon_product_data/reviews_Video_Games_5.json')\n",
    "df = pd.read_json(dataset_path, lines=True)"
   ]
  },
  {
   "cell_type": "code",
   "execution_count": 17,
   "metadata": {
    "ExecuteTime": {
     "end_time": "2021-04-22T17:23:41.248809Z",
     "start_time": "2021-04-22T17:23:41.219234Z"
    }
   },
   "outputs": [
    {
     "data": {
      "text/html": [
       "<div>\n",
       "<style scoped>\n",
       "    .dataframe tbody tr th:only-of-type {\n",
       "        vertical-align: middle;\n",
       "    }\n",
       "\n",
       "    .dataframe tbody tr th {\n",
       "        vertical-align: top;\n",
       "    }\n",
       "\n",
       "    .dataframe thead th {\n",
       "        text-align: right;\n",
       "    }\n",
       "</style>\n",
       "<table border=\"1\" class=\"dataframe\">\n",
       "  <thead>\n",
       "    <tr style=\"text-align: right;\">\n",
       "      <th></th>\n",
       "      <th>reviewerID</th>\n",
       "      <th>asin</th>\n",
       "      <th>reviewerName</th>\n",
       "      <th>helpful</th>\n",
       "      <th>reviewText</th>\n",
       "      <th>overall</th>\n",
       "      <th>summary</th>\n",
       "      <th>unixReviewTime</th>\n",
       "      <th>reviewTime</th>\n",
       "    </tr>\n",
       "  </thead>\n",
       "  <tbody>\n",
       "    <tr>\n",
       "      <th>0</th>\n",
       "      <td>A2HD75EMZR8QLN</td>\n",
       "      <td>0700099867</td>\n",
       "      <td>123</td>\n",
       "      <td>[8, 12]</td>\n",
       "      <td>Installing the game was a struggle (because of...</td>\n",
       "      <td>1</td>\n",
       "      <td>Pay to unlock content? I don't think so.</td>\n",
       "      <td>1341792000</td>\n",
       "      <td>07 9, 2012</td>\n",
       "    </tr>\n",
       "    <tr>\n",
       "      <th>1</th>\n",
       "      <td>A3UR8NLLY1ZHCX</td>\n",
       "      <td>0700099867</td>\n",
       "      <td>Alejandro Henao \"Electronic Junky\"</td>\n",
       "      <td>[0, 0]</td>\n",
       "      <td>If you like rally cars get this game you will ...</td>\n",
       "      <td>4</td>\n",
       "      <td>Good rally game</td>\n",
       "      <td>1372550400</td>\n",
       "      <td>06 30, 2013</td>\n",
       "    </tr>\n",
       "    <tr>\n",
       "      <th>2</th>\n",
       "      <td>A1INA0F5CWW3J4</td>\n",
       "      <td>0700099867</td>\n",
       "      <td>Amazon Shopper \"Mr.Repsol\"</td>\n",
       "      <td>[0, 0]</td>\n",
       "      <td>1st shipment received a book instead of the ga...</td>\n",
       "      <td>1</td>\n",
       "      <td>Wrong key</td>\n",
       "      <td>1403913600</td>\n",
       "      <td>06 28, 2014</td>\n",
       "    </tr>\n",
       "    <tr>\n",
       "      <th>3</th>\n",
       "      <td>A1DLMTOTHQ4AST</td>\n",
       "      <td>0700099867</td>\n",
       "      <td>ampgreen</td>\n",
       "      <td>[7, 10]</td>\n",
       "      <td>I got this version instead of the PS3 version,...</td>\n",
       "      <td>3</td>\n",
       "      <td>awesome game, if it did not crash frequently !!</td>\n",
       "      <td>1315958400</td>\n",
       "      <td>09 14, 2011</td>\n",
       "    </tr>\n",
       "    <tr>\n",
       "      <th>4</th>\n",
       "      <td>A361M14PU2GUEG</td>\n",
       "      <td>0700099867</td>\n",
       "      <td>Angry Ryan \"Ryan A. Forrest\"</td>\n",
       "      <td>[2, 2]</td>\n",
       "      <td>I had Dirt 2 on Xbox 360 and it was an okay ga...</td>\n",
       "      <td>4</td>\n",
       "      <td>DIRT 3</td>\n",
       "      <td>1308009600</td>\n",
       "      <td>06 14, 2011</td>\n",
       "    </tr>\n",
       "  </tbody>\n",
       "</table>\n",
       "</div>"
      ],
      "text/plain": [
       "       reviewerID        asin                        reviewerName  helpful  \\\n",
       "0  A2HD75EMZR8QLN  0700099867                                 123  [8, 12]   \n",
       "1  A3UR8NLLY1ZHCX  0700099867  Alejandro Henao \"Electronic Junky\"   [0, 0]   \n",
       "2  A1INA0F5CWW3J4  0700099867          Amazon Shopper \"Mr.Repsol\"   [0, 0]   \n",
       "3  A1DLMTOTHQ4AST  0700099867                            ampgreen  [7, 10]   \n",
       "4  A361M14PU2GUEG  0700099867        Angry Ryan \"Ryan A. Forrest\"   [2, 2]   \n",
       "\n",
       "                                          reviewText  overall  \\\n",
       "0  Installing the game was a struggle (because of...        1   \n",
       "1  If you like rally cars get this game you will ...        4   \n",
       "2  1st shipment received a book instead of the ga...        1   \n",
       "3  I got this version instead of the PS3 version,...        3   \n",
       "4  I had Dirt 2 on Xbox 360 and it was an okay ga...        4   \n",
       "\n",
       "                                           summary  unixReviewTime  \\\n",
       "0         Pay to unlock content? I don't think so.      1341792000   \n",
       "1                                  Good rally game      1372550400   \n",
       "2                                        Wrong key      1403913600   \n",
       "3  awesome game, if it did not crash frequently !!      1315958400   \n",
       "4                                           DIRT 3      1308009600   \n",
       "\n",
       "    reviewTime  \n",
       "0   07 9, 2012  \n",
       "1  06 30, 2013  \n",
       "2  06 28, 2014  \n",
       "3  09 14, 2011  \n",
       "4  06 14, 2011  "
      ]
     },
     "execution_count": 17,
     "metadata": {},
     "output_type": "execute_result"
    }
   ],
   "source": [
    "df.head()"
   ]
  },
  {
   "cell_type": "code",
   "execution_count": 18,
   "metadata": {
    "ExecuteTime": {
     "end_time": "2021-04-22T17:24:16.495166Z",
     "start_time": "2021-04-22T17:24:16.444655Z"
    }
   },
   "outputs": [],
   "source": [
    "train_data = list(df['reviewText'])"
   ]
  },
  {
   "cell_type": "code",
   "execution_count": 19,
   "metadata": {
    "ExecuteTime": {
     "end_time": "2021-04-22T17:24:22.789949Z",
     "start_time": "2021-04-22T17:24:22.767161Z"
    }
   },
   "outputs": [],
   "source": [
    "import pyngramspell\n",
    "speller = pyngramspell.PyNgramSpell()"
   ]
  },
  {
   "cell_type": "code",
   "execution_count": 20,
   "metadata": {
    "ExecuteTime": {
     "end_time": "2021-04-22T17:26:13.741463Z",
     "start_time": "2021-04-22T17:24:27.807299Z"
    }
   },
   "outputs": [],
   "source": [
    "speller.fit(train_data)"
   ]
  },
  {
   "cell_type": "code",
   "execution_count": 21,
   "metadata": {
    "ExecuteTime": {
     "end_time": "2021-04-22T17:26:24.441309Z",
     "start_time": "2021-04-22T17:26:24.417477Z"
    }
   },
   "outputs": [
    {
     "data": {
      "text/plain": [
       "48316"
      ]
     },
     "execution_count": 21,
     "metadata": {},
     "output_type": "execute_result"
    }
   ],
   "source": [
    "len(speller.vocabulary)"
   ]
  },
  {
   "cell_type": "code",
   "execution_count": 27,
   "metadata": {
    "ExecuteTime": {
     "end_time": "2021-04-22T17:29:03.011753Z",
     "start_time": "2021-04-22T17:29:02.104486Z"
    },
    "scrolled": true
   },
   "outputs": [
    {
     "name": "stdout",
     "output_type": "stream",
     "text": [
      "17.7 ms ± 3.25 ms per loop (mean ± std. dev. of 7 runs, 100 loops each)\n"
     ]
    }
   ],
   "source": [
    "%%timeit\n",
    "speller.transform('xboj 360 colector edition')"
   ]
  },
  {
   "cell_type": "code",
   "execution_count": 28,
   "metadata": {
    "ExecuteTime": {
     "end_time": "2021-04-22T17:32:27.469340Z",
     "start_time": "2021-04-22T17:32:26.164593Z"
    }
   },
   "outputs": [
    {
     "name": "stdout",
     "output_type": "stream",
     "text": [
      "13.3 ms ± 339 µs per loop (mean ± std. dev. of 7 runs, 100 loops each)\n"
     ]
    }
   ],
   "source": [
    "%%timeit\n",
    "speller.transform('pssp blac edition')"
   ]
  },
  {
   "cell_type": "code",
   "execution_count": 26,
   "metadata": {
    "ExecuteTime": {
     "end_time": "2021-04-22T17:34:44.008240Z",
     "start_time": "2021-04-22T17:34:42.227599Z"
    }
   },
   "outputs": [
    {
     "name": "stdout",
     "output_type": "stream",
     "text": [
      "17.5 ms ± 807 µs per loop (mean ± std. dev. of 7 runs, 100 loops each)\n"
     ]
    }
   ],
   "source": [
    "%%timeit\n",
    "speller.transform('new pleystation gaime batmen')"
   ]
  },
  {
   "cell_type": "code",
   "execution_count": 416,
   "metadata": {
    "ExecuteTime": {
     "end_time": "2021-04-22T17:55:29.446355Z",
     "start_time": "2021-04-22T17:55:29.205038Z"
    }
   },
   "outputs": [
    {
     "data": {
      "text/plain": [
       "True"
      ]
     },
     "execution_count": 416,
     "metadata": {},
     "output_type": "execute_result"
    }
   ],
   "source": [
    "'batmen' in speller.vocabulary"
   ]
  },
  {
   "cell_type": "code",
   "execution_count": 418,
   "metadata": {
    "ExecuteTime": {
     "end_time": "2021-04-22T17:55:42.326602Z",
     "start_time": "2021-04-22T17:55:42.300273Z"
    }
   },
   "outputs": [
    {
     "data": {
      "text/plain": [
       "1"
      ]
     },
     "execution_count": 418,
     "metadata": {},
     "output_type": "execute_result"
    }
   ],
   "source": [
    "speller.unigram_freq_dict['batmen']"
   ]
  },
  {
   "cell_type": "markdown",
   "metadata": {},
   "source": [
    "Because sometimes very infrequent errors are inside the vocabulary we might want to remove them"
   ]
  },
  {
   "cell_type": "code",
   "execution_count": 420,
   "metadata": {
    "ExecuteTime": {
     "end_time": "2021-04-22T17:57:07.648405Z",
     "start_time": "2021-04-22T17:57:07.297544Z"
    }
   },
   "outputs": [],
   "source": [
    "speller.filter_vocabulary(min_freq=5)"
   ]
  },
  {
   "cell_type": "code",
   "execution_count": 421,
   "metadata": {
    "ExecuteTime": {
     "end_time": "2021-04-22T17:57:12.326357Z",
     "start_time": "2021-04-22T17:57:12.304009Z"
    }
   },
   "outputs": [
    {
     "data": {
      "text/plain": [
       "False"
      ]
     },
     "execution_count": 421,
     "metadata": {},
     "output_type": "execute_result"
    }
   ],
   "source": [
    "'batmen' in speller.vocabulary"
   ]
  },
  {
   "cell_type": "code",
   "execution_count": 422,
   "metadata": {
    "ExecuteTime": {
     "end_time": "2021-04-22T17:57:17.724369Z",
     "start_time": "2021-04-22T17:57:15.757372Z"
    }
   },
   "outputs": [
    {
     "data": {
      "text/plain": [
       "['new', 'playstation', 'game', 'batman']"
      ]
     },
     "execution_count": 422,
     "metadata": {},
     "output_type": "execute_result"
    }
   ],
   "source": [
    "speller.transform('new pleystation gaime batmen')"
   ]
  },
  {
   "cell_type": "code",
   "execution_count": null,
   "metadata": {},
   "outputs": [],
   "source": []
  },
  {
   "cell_type": "code",
   "execution_count": null,
   "metadata": {},
   "outputs": [],
   "source": []
  }
 ],
 "metadata": {
  "kernelspec": {
   "display_name": "Python 3",
   "language": "python",
   "name": "python3"
  },
  "language_info": {
   "codemirror_mode": {
    "name": "ipython",
    "version": 3
   },
   "file_extension": ".py",
   "mimetype": "text/x-python",
   "name": "python",
   "nbconvert_exporter": "python",
   "pygments_lexer": "ipython3",
   "version": "3.9.2"
  },
  "toc": {
   "base_numbering": 1,
   "nav_menu": {},
   "number_sections": true,
   "sideBar": true,
   "skip_h1_title": false,
   "title_cell": "Table of Contents",
   "title_sidebar": "Contents",
   "toc_cell": true,
   "toc_position": {},
   "toc_section_display": true,
   "toc_window_display": true
  },
  "varInspector": {
   "cols": {
    "lenName": 16,
    "lenType": 16,
    "lenVar": 40
   },
   "kernels_config": {
    "python": {
     "delete_cmd_postfix": "",
     "delete_cmd_prefix": "del ",
     "library": "var_list.py",
     "varRefreshCmd": "print(var_dic_list())"
    },
    "r": {
     "delete_cmd_postfix": ") ",
     "delete_cmd_prefix": "rm(",
     "library": "var_list.r",
     "varRefreshCmd": "cat(var_dic_list()) "
    }
   },
   "types_to_exclude": [
    "module",
    "function",
    "builtin_function_or_method",
    "instance",
    "_Feature"
   ],
   "window_display": false
  }
 },
 "nbformat": 4,
 "nbformat_minor": 4
}
